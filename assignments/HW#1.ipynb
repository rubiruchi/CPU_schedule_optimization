{
 "cells": [
  {
   "cell_type": "markdown",
   "metadata": {},
   "source": [
    "# 1.Warm up"
   ]
  },
  {
   "cell_type": "code",
   "execution_count": 10,
   "metadata": {
    "collapsed": false
   },
   "outputs": [
    {
     "name": "stdout",
     "output_type": "stream",
     "text": [
      "  0.229876 seconds (36.03 k allocations: 2.413 MiB)\n",
      "Optimal\n",
      "[3.0, 0.0, 3.0]\n",
      "  0.297667 seconds (489.09 k allocations: 27.915 MiB, 1.82% gc time)\n",
      "Optimal\n",
      "[3.0, 8.22327e-9, 3.0]\n",
      "  2.647056 seconds (1.18 M allocations: 62.263 MiB, 1.26% gc time)\n",
      "Optimal\n",
      "[2.99999, 4.14972e-6, 3.00001]\n"
     ]
    }
   ],
   "source": [
    "using JuMP, Clp, ECOS, SCS\n",
    "\n",
    "m = Model()\n",
    "\n",
    "@variable(m, 0 <= x[1:3] <= 3)    \n",
    "@constraint(m, 2x[1] >= x[2]+x[3])       \n",
    "@objective(m, Max, 5x[1]-x[2]+11x[3])         \n",
    "\n",
    "setsolver(m, ClpSolver())\n",
    "@time(\n",
    "for i in 1:1000\n",
    "    status = solve(m)\n",
    "end)\n",
    "println(status)\n",
    "println(getvalue(x))\n",
    "\n",
    "setsolver(m, ECOSSolver(verbose=0))\n",
    "@time(\n",
    "for i in 1:1000\n",
    "    status = solve(m)\n",
    "end)\n",
    "println(status)\n",
    "println(getvalue(x))\n",
    "\n",
    "setsolver(m, SCSSolver(verbose=0))\n",
    "@time(\n",
    "for i in 1:1000\n",
    "    status = solve(m)\n",
    "end)\n",
    "println(status)\n",
    "println(getvalue(x))"
   ]
  },
  {
   "cell_type": "markdown",
   "metadata": {},
   "source": [
    "### Answer\n",
    "Clp is the most accurate, while SCS is the most inaccurate solver. \n",
    "\n",
    "Clp is the fastest, while ECOS is the slowest.\n",
    "##### Reasons\n",
    "Accuracy: The reason can be the different algorithms that the solvers are using. For instance, SCS is based on alternating direction method of multipliers (ADMM), while Clp uses Simplex method, which is an exact algorithm for Linear Programming problem.\n",
    "\n",
    "Speed: The most important reason should be the tradeoff between generality and speed of the solvers. For instance, Clp is only capable of solving LP, while ECOS can solve LP and SOCP, and SCS can solve SODP in addition. "
   ]
  },
  {
   "cell_type": "markdown",
   "metadata": {},
   "source": [
    "# 2. Corp planning"
   ]
  },
  {
   "cell_type": "markdown",
   "metadata": {},
   "source": [
    "(a)"
   ]
  },
  {
   "cell_type": "code",
   "execution_count": 3,
   "metadata": {
    "collapsed": false
   },
   "outputs": [
    {
     "name": "stdout",
     "output_type": "stream",
     "text": [
      "Optimal\n",
      "Plant 19.99999999999999 acres of wheat.\n",
      "Plant 20.000000000000007 acres of corn.\n",
      "Total profit will be $10000.0\n"
     ]
    }
   ],
   "source": [
    "using JuMP, Clp\n",
    "\n",
    "m = Model(solver = ClpSolver())\n",
    "         \n",
    "@variable(m, 0 <= w <= 45)           # wheat\n",
    "@variable(m, 0 <= c <= 45)           # corn\n",
    "@constraint(m, w + c <= 45)           # total acre of land avaible\n",
    "@constraint(m, 3w + 2c <= 100)       # total number of worker\n",
    "@constraint(m, 2w + 4c <= 120)       # total amount of fertilizer\n",
    "@objective(m, Max, 200w + 300c)      # maximize profit\n",
    "\n",
    "status = solve(m)\n",
    "\n",
    "println(status)\n",
    "println(\"Plant \", getvalue(w), \" acres of wheat.\")\n",
    "println(\"Plant \", getvalue(c), \" acres of corn.\")\n",
    "println(\"Total profit will be \\$\", getobjectivevalue(m))"
   ]
  },
  {
   "cell_type": "markdown",
   "metadata": {},
   "source": [
    "(b)"
   ]
  },
  {
   "cell_type": "markdown",
   "metadata": {},
   "source": [
    "Problem Data"
   ]
  },
  {
   "cell_type": "code",
   "execution_count": 5,
   "metadata": {
    "collapsed": true
   },
   "outputs": [],
   "source": [
    "# the types of crops plant\n",
    "crops = [:wheat, :corn]\n",
    "\n",
    "# resources involved\n",
    "resources = [:land, :labor, :fertilizer]\n",
    "\n",
    "# profits returned (for each crop)\n",
    "profit = Dict( zip( crops, [ 200, 300 ] ) )\n",
    "\n",
    "# quantities available (for each resource)\n",
    "quant_avail = Dict( zip( resources, [ 45, 100, 120 ] ) )\n",
    "\n",
    "# recipes (crops, resources)\n",
    "using NamedArrays\n",
    "recipe_mat = [ 1 3 2 \n",
    "               1 2 4 ]\n",
    "recipe = NamedArray( recipe_mat, (crops,resources), (\"crops\",\"resources\",) )\n",
    ";"
   ]
  },
  {
   "cell_type": "markdown",
   "metadata": {},
   "source": [
    "Problem Model"
   ]
  },
  {
   "cell_type": "code",
   "execution_count": 6,
   "metadata": {
    "collapsed": false
   },
   "outputs": [
    {
     "name": "stdout",
     "output_type": "stream",
     "text": [
      "Plant: 1 dimensions:\n",
      "[wheat] = 19.99999999999999\n",
      "[ corn] = 20.000000000000007\n",
      "Total profit is: $10000.0\n"
     ]
    }
   ],
   "source": [
    "using JuMP, Clp\n",
    "m = Model(solver = ClpSolver())\n",
    "\n",
    "@variable(m, 0 <= Plant[crops] <= 45 )\n",
    "@expression(m, total_profit, sum( profit[c]*Plant[c] for c in crops) )\n",
    "@constraint(m, constr[ r in resources], sum( recipe[c,r]*Plant[c] for c in crops ) <= quant_avail[r] )\n",
    "@objective(m, Max, total_profit )\n",
    "\n",
    "solve(m)\n",
    "println(getvalue(Plant))\n",
    "println(\"Total profit is: \\$\", getvalue(total_profit))"
   ]
  },
  {
   "cell_type": "code",
   "execution_count": 10,
   "metadata": {
    "collapsed": false
   },
   "outputs": [
    {
     "data": {
      "image/png": "[encoded data removed]",
      "text/plain": [
       "PyPlot.Figure(PyObject <matplotlib.figure.Figure object at 0x13c87b310>)"
      ]
     },
     "metadata": {},
     "output_type": "display_data"
    },
    {
     "data": {
      "text/plain": [
       "PyObject <matplotlib.lines.Line2D object at 0x13f263ed0>"
      ]
     },
     "execution_count": 10,
     "metadata": {},
     "output_type": "execute_result"
    }
   ],
   "source": [
    "using PyPlot\n",
    "# First Segment Group\n",
    "xs = [45,0]\n",
    "ys = [0,45]\n",
    "lines = Any[collect(zip(xs,ys))]\n",
    "# lines = [(1.0,2.0),(3.0,4.0),(5.0,0.06),(0.0,0.0)]\n",
    "\n",
    "# Second Segment Group\n",
    "xs = [45,45]\n",
    "ys = [0,50]\n",
    "push!(lines,collect(zip(xs,ys)))\n",
    "\n",
    "# Third Segment Group\n",
    "xs = [0,50]\n",
    "ys = [45.,45]\n",
    "push!(lines,collect(zip(xs,ys)))\n",
    "\n",
    "xs = [100/3,0]\n",
    "ys = [0,50]\n",
    "push!(lines,collect(zip(xs,ys)))\n",
    "\n",
    "xs = [0,60]\n",
    "ys = [30.,0]\n",
    "push!(lines,collect(zip(xs,ys)))\n",
    "\n",
    "c = Vector{Int}[[1,0,0],[0,1,0],[0,0,1],[0,1,1],[1,0,1]] # Colors\n",
    "\n",
    "# Assemble everything into a LineCollection\n",
    "line_segments = matplotlib[:collections][:LineCollection](lines,colors=c)\n",
    "\n",
    "fig = figure(\"Corp Planning\")\n",
    "ax = axes()\n",
    "ax[:add_collection](line_segments)\n",
    "axis(\"image\")\n",
    "grid(\"on\")\n",
    "xlabel(\"wheat (w)\")\n",
    "ylabel(\"corn (c)\")\n",
    "title(\"Corps planning\")\n",
    "x = linspace(-100,1000,1000); \n",
    "y = 100/3 - (2/3)x\n",
    "plot(x,y,linestyle=\":\")\n",
    "plot(20,20,\"go\")\n",
    "ax[:text](23, 20, \"20,20\")\n",
    "ax[:axhline](y=0, color=\"k\")\n",
    "ax[:axvline](x=0, color=\"k\")"
   ]
  },
  {
   "cell_type": "code",
   "execution_count": null,
   "metadata": {
    "collapsed": true
   },
   "outputs": [],
   "source": []
  }
 ],
 "metadata": {
  "kernelspec": {
   "display_name": "Julia 0.6.2",
   "language": "julia",
   "name": "julia-0.6"
  },
  "language_info": {
   "file_extension": ".jl",
   "mimetype": "application/julia",
   "name": "julia",
   "version": "0.6.2"
  }
 },
 "nbformat": 4,
 "nbformat_minor": 0
}
