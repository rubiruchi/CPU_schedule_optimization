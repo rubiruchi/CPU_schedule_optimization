{
 "cells": [
  {
   "cell_type": "markdown",
   "metadata": {},
   "source": [
    "## Problem 1. "
   ]
  },
  {
   "cell_type": "markdown",
   "metadata": {},
   "source": [
    "(a)\n",
    "$A = \\begin{pmatrix}\n",
    "1 & 0 & 0 \\\\\n",
    "-1 & 0 & 0 \\\\\n",
    "0 & 1 & 0 \\\\\n",
    "0 & -1 & 0 \\\\\n",
    "0 & 0 & 1 \\\\\n",
    "0 & 0 & -1 \n",
    "\\end{pmatrix}$\n",
    "  $b^T = (1, 1,1, 1,1, 1,1, 1)$ \n",
    "\n",
    "\n",
    "(b)\n",
    "$A = \\begin{pmatrix}\n",
    "1 & 1 & 1 \\\\\n",
    "-1 & -1 & -1 \\\\\n",
    "-1 & 1 & 1 \\\\\n",
    "1 & -1 & -1 \\\\\n",
    "1 & -1 & 1 \\\\\n",
    "-1 & 1 & -1 \\\\\n",
    "1 & 1 & -1 \\\\\n",
    "-1 & -1 & 1 \n",
    "\\end{pmatrix}$\n",
    "  $b^T = (1, 1,1, 1,1, 1,1, 1, 1, 1)$"
   ]
  },
  {
   "cell_type": "markdown",
   "metadata": {},
   "source": [
    "## Problem 2."
   ]
  },
  {
   "cell_type": "markdown",
   "metadata": {},
   "source": [
    "## (a)\n",
    "\n",
    "### Variable\n",
    "\n",
    "Transfer the bounded variables to nonnegative variables:\n",
    "\n",
    "Let $z_1$ to be $z_1 = x_1 - x_2$, where $x_1$ and $x_2$ are nonnegative variables.\n",
    "\n",
    "Let $z_2$ to be $z_2 = x_3 -1$, then $0 \\leq x_3 \\leq 6$\n",
    "\n",
    "Let $z_3$ to be $z_3 = x_4 -1$, then $0 \\leq x_4 \\leq 6$\n",
    "\n",
    "Let $z_4$ to be $z_4 = x_5 -2$, then $0 \\leq x_5 \\leq 4$\n",
    "\n",
    "Let $x_6$ to be the surplus variable \n",
    "\n",
    "Let $x_7, x_8, x_9, x_{10}$ to be the slack variable\n",
    "\n",
    "### Objective\n",
    "\n",
    "Transfer maximize to minimize:\n",
    "\n",
    "$Minimize -p = -(3z_1 - z_2)$, Which is equal to \n",
    "\n",
    "$Minimize -p = -3x_1 + 3x_2 + x_3 -1$\n",
    "\n",
    "In standard form, we write $Minimize \\, -p+1 = -3x_1 + 3x_2 + x_3$, where the objective value of orginal problem is $p$\n",
    "### Constraints\n",
    "\n",
    "The constraints can be written as:\n",
    "\n",
    "$\n",
    "\\begin{align*}\n",
    "Minimize& -3x_1 + 3x_2 + x_3  \\\\\n",
    "Subject \\, to& -x_1 + x_2 + 6x_3 -x_4 +x_5 - x_6 &= &4  \\\\\n",
    "&7x_3 +x_5 &= &14  \\\\\n",
    "&x_4 + x_5 + x_7 &=&5  \\\\\n",
    "&x_3 + x_8 &=&6  \\\\\n",
    "&x_4 + x_9 &=&6  \\\\\n",
    "&x_5 + x_{10} &=&4  \\\\\n",
    "&&x_1, ... ,x_{10} \\geq 0 \\\\\n",
    "\\end{align*}\n",
    "$\n",
    "\n",
    "$A = \\begin{pmatrix}\n",
    "-1 & 1 & 6 & -1 & 1 & -1 & 0 & 0 & 0 & 0 \\\\\n",
    "0 & 0 & 7 & 0 & 1 & 0 & 0 & 0 & 0 & 0 \\\\\n",
    "0 & 0 & 0 & 1 & 1 & 0 & 1 & 0 & 0 & 0 \\\\\n",
    "0 & 0 & 1 & 0 & 0 & 0 & 0 & 1 & 0 & 0 \\\\\n",
    "0 & 0 & 0 & 1 & 0 & 0 & 0 & 0 & 1 & 0 \\\\\n",
    "0 & 0 & 0 & 0 & 1 & 0 & 0 & 0 & 0 & 1  \n",
    "\\end{pmatrix}$\n",
    "\n",
    "$b^T = (4,14,5,6,6,4)$\n",
    "\n",
    "$c^T = (-3,3,1,0,0,0,0,0,0,0)$\n",
    "\n",
    "$x^T = (x_1,x_2,x_3,x_4,x_5,x_6,x_7,x_8,x_9,x_{10})$"
   ]
  },
  {
   "cell_type": "markdown",
   "metadata": {},
   "source": [
    "## (b)"
   ]
  },
  {
   "cell_type": "code",
   "execution_count": 59,
   "metadata": {
    "collapsed": false
   },
   "outputs": [
    {
     "name": "stdout",
     "output_type": "stream",
     "text": [
      "Max 3 z[1] - z[2]\n",
      "Subject to\n",
      " -z[1] + 6 z[2] - z[3] + z[4] ≥ -3\n",
      " 7 z[2] + z[4] = 5\n",
      " z[3] + z[4] ≤ 2\n",
      " z[1]\n",
      " -1 ≤ z[2] ≤ 5\n",
      " -1 ≤ z[3] ≤ 5\n",
      " -1 ≤ z[4] ≤ 2\n",
      "\n",
      "Optimal\n",
      "z = [8.57143, 0.428571, -1.0, 2.0]\n",
      "objective = 25.28571428571429\n"
     ]
    }
   ],
   "source": [
    "using JuMP, Clp\n",
    "lb=[-Inf,-1,-1,-1]\n",
    "ub=[Inf,5,5,2]\n",
    "m = Model(solver=ClpSolver())\n",
    "@variable(m, z[i=1:4], lowerbound=lb[i], upperbound=ub[i])\n",
    "@constraint(m, -z[1] + 6z[2] - z[3] + z[4] >= -3 )\n",
    "@constraint(m, 7z[2] + z[4] == 5 )\n",
    "@constraint(m, z[3] + z[4] <= 2 )\n",
    "@objective(m, Max, 3z[1] - z[2] )\n",
    "\n",
    "status = solve(m)\n",
    "\n",
    "println(m)\n",
    "println(status)\n",
    "println(\"z = \", getvalue(z))\n",
    "println(\"objective = \", getobjectivevalue(m) )\n"
   ]
  },
  {
   "cell_type": "code",
   "execution_count": 194,
   "metadata": {
    "collapsed": false
   },
   "outputs": [
    {
     "name": "stdout",
     "output_type": "stream",
     "text": [
      "Min -3 x[1] + 3 x[2] + x[3]\n",
      "Subject to\n",
      " -x[1] + x[2] + 6 x[3] - x[4] + x[5] - x[6] = 4\n",
      " 7 x[3] + x[5] = 14\n",
      " x[4] + x[5] + x[7] = 5\n",
      " x[3] + x[8] = 6\n",
      " x[4] + x[9] = 6\n",
      " x[5] + x[10] = 4\n",
      " x[i] ≥ 0 ∀ i ∈ {1,2,…,9,10}\n",
      "\n",
      "Optimal\n",
      "\n",
      "z[1] = 8.571428571428571\n",
      "z[2] = 0.4285714285714286\n",
      "z[3] = -1.0\n",
      "z[4] = 2.0\n",
      "Objective= 25.28571428571429\n"
     ]
    }
   ],
   "source": [
    "A = [\n",
    "    -1 1 6 -1 1 -1 0 0 0 0; \n",
    "    0 0 7 0 1 0 0 0 0 0 ; \n",
    "    0 0 0 1 1 0 1 0 0 0 ; \n",
    "    0 0 1 0 0 0 0 1 0 0 ; \n",
    "    0 0 0 1 0 0 0 0 1 0 ; \n",
    "    0 0 0 0 1 0 0 0 0 1 \n",
    "]\n",
    "b = [4; 14; 5; 6; 6; 4]\n",
    "c = [-3;3;1;0;0;0;0;0;0;0]\n",
    "using JuMP, Clp\n",
    "\n",
    "m = Model(solver=ClpSolver())\n",
    "@variable(m, x[1:10] >= 0 )     \n",
    "@constraint(m, A*x .== b )  \n",
    "@objective(m, Min, dot(c,x) )   \n",
    "status = solve(m)\n",
    "\n",
    "println(m)\n",
    "println(status)\n",
    "println()\n",
    "println(\"z[1] = \", getvalue(x[1])-getvalue(x[2]) )\n",
    "println(\"z[2] = \", getvalue(x[3])-1 )\n",
    "println(\"z[3] = \", getvalue(x[4])-1 )\n",
    "println(\"z[4] = \", getvalue(x[5])-2 )\n",
    "println(\"Objective= \", -(getobjectivevalue(m)-1))\n",
    "\n"
   ]
  },
  {
   "cell_type": "markdown",
   "metadata": {},
   "source": [
    "## Problem 3."
   ]
  },
  {
   "cell_type": "markdown",
   "metadata": {},
   "source": [
    "Let $\\textbf{x}$ denote the amount of each raw material used to produce the steel. \n",
    "\n"
   ]
  },
  {
   "cell_type": "code",
   "execution_count": 70,
   "metadata": {
    "collapsed": false
   },
   "outputs": [
    {
     "name": "stdout",
     "output_type": "stream",
     "text": [
      "Min 200 x[1] + 250 x[2] + 150 x[3] + 220 x[4] + 240 x[5] + 200 x[6] + 165 x[7]\n",
      "Subject to\n",
      " x[1] + x[2] + x[3] + x[4] + x[5] + x[6] + x[7] = 500\n",
      " 1000 ≤ 2.5 x[1] + 3 x[2] ≤ 1500\n",
      " 200 ≤ 0.3 x[3] + 90 x[4] + 96 x[5] + 0.4 x[6] + 0.6 x[7] ≤ 300\n",
      " 600 ≤ 1.3 x[1] + 0.8 x[2] + 4 x[5] + 1.2 x[6] ≤ 825\n",
      " 0 ≤ x[1] ≤ 400\n",
      " 0 ≤ x[2] ≤ 300\n",
      " 0 ≤ x[3] ≤ 600\n",
      " 0 ≤ x[4] ≤ 500\n",
      " 0 ≤ x[5] ≤ 200\n",
      " 0 ≤ x[6] ≤ 300\n",
      " 0 ≤ x[7] ≤ 250\n",
      "\n",
      "Optimal\n",
      "x = [400.0, 0.0, 39.7763, 0.0, 2.76127, 57.4624, 0.0]\n",
      "objective = 98121.63579168123\n"
     ]
    }
   ],
   "source": [
    "using JuMP, Clp\n",
    "lb=[0,0,0,0,0,0,0]\n",
    "ub=[400,300,600,500,200,300,250]\n",
    "c=[200,250,150,220,240,200,165]\n",
    "m = Model(solver=ClpSolver())\n",
    "@variable(m, x[i=1:7], lowerbound=lb[i], upperbound=ub[i])\n",
    "@constraint(m, sum(x) == 500)\n",
    "@constraint(m, 2*500 <= 2.5x[1] + 3x[2] <= 3*500 )\n",
    "@constraint(m, 0.4*500 <= 0.3x[3] + 90x[4] + 96x[5] + 0.4x[6] + 0.6x[7]<= 0.6*500 )\n",
    "@constraint(m, 1.2*500 <= 1.3x[1] + 0.8x[2] + 4x[5] + 1.2x[6]<= 1.65*500 )\n",
    "@objective(m, Min, c'*x )\n",
    "\n",
    "status = solve(m)\n",
    "\n",
    "println(m)\n",
    "println(status)\n",
    "println(\"x = \", getvalue(x))\n",
    "println(\"objective = \", getobjectivevalue(m) )\n"
   ]
  },
  {
   "cell_type": "markdown",
   "metadata": {},
   "source": [
    "The composition is 400.0, 0.0, 39.7763, 0.0, 2.76127, 57.4624, 0.0 tons for each raw material"
   ]
  },
  {
   "cell_type": "markdown",
   "metadata": {},
   "source": [
    "## Problem 4 "
   ]
  },
  {
   "cell_type": "markdown",
   "metadata": {},
   "source": [
    "## (a)\n",
    "Let x denote the amount of food (daily)"
   ]
  },
  {
   "cell_type": "code",
   "execution_count": 1,
   "metadata": {
    "collapsed": false
   },
   "outputs": [],
   "source": [
    "# STARTER CODE FOR STIGLER'S DIET PROBLEM\n",
    "using NamedArrays\n",
    "\n",
    "# import Stigler's data set\n",
    "raw = readcsv(\"stigler.csv\")\n",
    "(m,n) = size(raw)\n",
    "\n",
    "n_nutrients = 2:n      # columns containing nutrients\n",
    "n_foods = 3:m          # rows containing food names\n",
    "\n",
    "nutrients = raw[1,n_nutrients][:]   # the list of nutrients (convert to 1-D array)\n",
    "foods = raw[n_foods,1][:]           # the list of foods (convert to 1-D array)\n",
    "\n",
    "# lower[i] is the minimum daily requirement of nutrient i.\n",
    "lower = Dict( zip(nutrients,raw[2,n_nutrients]) )\n",
    "\n",
    "# data[f,i] is the amount of nutrient i contained in food f.\n",
    "data = NamedArray( raw[n_foods,n_nutrients], (foods,nutrients), (\"foods\",\"nutrients\") );"
   ]
  },
  {
   "cell_type": "code",
   "execution_count": 2,
   "metadata": {
    "collapsed": false
   },
   "outputs": [
    {
     "name": "stdout",
     "output_type": "stream",
     "text": [
      "Optimal\n",
      "\n",
      "x = [0.0295191, 0.0, 0.0, 0.0, 0.0, 0.0, 0.0, 0.0, 0.0, 0.0, 0.0, 0.0, 0.0, 0.0, 0.0, 0.0, 0.0, 0.0, 0.0, 0.0, 0.0, 0.0, 0.0, 0.0, 0.0, 0.0, 0.0, 0.0, 0.0, 0.00189256, 0.0, 0.0, 0.0, 0.0, 0.0, 0.0, 0.0, 0.0, 0.0, 0.0, 0.0, 0.0, 0.0, 0.0, 0.0, 0.0112144, 0.0, 0.0, 0.0, 0.0, 0.0, 0.00500766, 0.0, 0.0, 0.0, 0.0, 0.0, 0.0, 0.0, 0.0, 0.0, 0.0, 0.0, 0.0, 0.0, 0.0, 0.0, 0.0, 0.0610286, 0.0, 0.0, 0.0, 0.0, 0.0, 0.0, 0.0, 0.0]\n",
      "\n",
      "Objective= 39.66173154546625\n",
      "\n",
      "The foods make up the diet is\n",
      "No.1 Wheat Flour (Enriched) 0.02951906167648827\n",
      "No.30 Liver (Beef) 0.0018925572907052643\n",
      "No.46 Cabbage 0.011214435246144865\n",
      "No.52 Spinach 0.005007660466725203\n",
      "No.69 Navy Beans, Dried 0.061028563526693246\n"
     ]
    }
   ],
   "source": [
    "using JuMP, Clp\n",
    "\n",
    "m = Model(solver=ClpSolver())\n",
    "@variable(m, x[1:size(data)[1]] >= 0 ) \n",
    "@constraint(m, convert(Array{Float64,2},data)'*x .>= raw[2,n_nutrients])  \n",
    "@objective(m, Min, 365*sum(x) )   \n",
    "status = solve(m)\n",
    "\n",
    "println(status)\n",
    "println()\n",
    "println(\"x = \", getvalue(x) )\n",
    "println()\n",
    "println(\"Objective= \", getobjectivevalue(m))\n",
    "println()\n",
    "println(\"The foods make up the diet is\")\n",
    "for i = 1:77 \n",
    "    if getvalue(x[i])>0 \n",
    "        println(\"No.\",i,\" \",foods[i], \" \", getvalue(x[i]))\n",
    "    end \n",
    "end"
   ]
  },
  {
   "cell_type": "markdown",
   "metadata": {},
   "source": [
    "## (b)"
   ]
  },
  {
   "cell_type": "code",
   "execution_count": 4,
   "metadata": {
    "collapsed": false
   },
   "outputs": [
    {
     "name": "stdout",
     "output_type": "stream",
     "text": [
      "Optimal\n",
      "\n",
      "x = [0.0354556, 0.0, 0.0, 0.0, 0.0, 0.0, 0.0, 0.0, 0.0, 0.0, 0.0, 0.0, 0.0, 0.0, 0.00859146, 0.0, 0.0, 0.0, 0.0, 0.0, 0.0, 0.0, 0.0, 0.0, 0.0, 0.0, 0.0, 0.0, 0.0, 0.0, 0.0, 0.0, 0.0, 0.0, 0.0, 0.0, 0.0, 0.0, 0.0, 0.0, 0.0, 0.0, 0.0, 0.0, 0.0, 0.0112495, 0.0, 0.0, 0.0, 0.0, 0.0, 0.00511283, 0.0, 0.0, 0.0, 0.0, 0.0, 0.0, 0.0, 0.0, 0.0, 0.0, 0.0, 0.0, 0.0, 0.0, 0.0, 0.0, 0.048628, 0.0, 0.0, 0.0, 0.0, 0.0, 0.0, 0.0, 0.0]\n",
      "\n",
      "Objective= 39.79866435040896\n",
      "\n",
      "The foods make up the diet is\n",
      "Wheat Flour (Enriched) 0.03545558140888772\n",
      "Evaporated Milk (can) 0.008591461668763572\n",
      "Cabbage 0.011249517312443502\n",
      "Spinach 0.005112832613199645\n",
      "Navy Beans, Dried 0.048628043573168474\n"
     ]
    }
   ],
   "source": [
    "n=m\n",
    "@constraint(n, x[30]==0)\n",
    "status = solve(n)\n",
    "\n",
    "println(status)\n",
    "println()\n",
    "println(\"x = \", getvalue(x) )\n",
    "println()\n",
    "println(\"Objective= \", getobjectivevalue(n))\n",
    "println()\n",
    "println(\"The foods make up the diet is\")\n",
    "for i = 1:77 \n",
    "    if getvalue(x[i])>0 \n",
    "        println(foods[i], \" \", getvalue(x[i]))\n",
    "    end \n",
    "end"
   ]
  },
  {
   "cell_type": "code",
   "execution_count": null,
   "metadata": {
    "collapsed": true
   },
   "outputs": [],
   "source": []
  }
 ],
 "metadata": {
  "kernelspec": {
   "display_name": "Julia 0.6.2",
   "language": "julia",
   "name": "julia-0.6"
  },
  "language_info": {
   "file_extension": ".jl",
   "mimetype": "application/julia",
   "name": "julia",
   "version": "0.6.2"
  }
 },
 "nbformat": 4,
 "nbformat_minor": 0
}
