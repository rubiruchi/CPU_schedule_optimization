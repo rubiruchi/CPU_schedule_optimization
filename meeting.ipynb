{
 "cells": [
  {
   "cell_type": "markdown",
   "metadata": {
    "collapsed": true
   },
   "source": [
    "# Our project\n",
    "## Table of Contents\n",
    "- Introduction\n",
    "- Models  \n",
    "    Objective: \n",
    "    $Minimize\\quad turnaround\\ time + \\lambda\\ fairness + \\mu\\ responsiveness $\n",
    "    - Perfect information\n",
    "        1. Knowing arrival time + duration\n",
    "        2. +multi-core\n",
    "        3. +dependency\n",
    "    - Robust\n",
    "        1. Robust duration\n",
    "        2. +robust arrival time\n",
    "    - (Optional) Stochastic\n",
    "- Solutions\n",
    "- Discussion (comparison with existing methods)\n",
    "- Conclusion"
   ]
  },
  {
   "cell_type": "code",
   "execution_count": null,
   "metadata": {},
   "outputs": [],
   "source": []
  }
 ],
 "metadata": {
  "anaconda-cloud": {},
  "kernelspec": {
   "display_name": "Julia 0.6.2",
   "language": "julia",
   "name": "julia-0.6"
  },
  "language_info": {
   "file_extension": ".jl",
   "mimetype": "application/julia",
   "name": "julia",
   "version": "0.6.2"
  }
 },
 "nbformat": 4,
 "nbformat_minor": 1
}
