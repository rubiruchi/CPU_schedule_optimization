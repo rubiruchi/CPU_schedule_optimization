{
 "cells": [
  {
   "cell_type": "markdown",
   "metadata": {},
   "source": [
    "## <center>  CS/ECE/ISyE 524 &mdash; Introduction to Optimization &mdash; Spring 2018 </center>\n",
    "\n",
    "# <center> Optimizing Multi-core CPU Scheduling </center>\n",
    "\n",
    "#### <center> Haoran Qiu (hqiu35@wisc.edu), Jian Wu (jwu384@wisc.edu), Tao Ji (tji24@wisc.edu), Yanting Liang (yliang73@wisc.edu) </center>\n",
    "#### <center> Instructor: Prof. Laurent Lessard </center>\n",
    "#### <center> May 7<sup>th</sup>, 2018 </center>\n",
    "\n",
    "*****"
   ]
  },
  {
   "cell_type": "markdown",
   "metadata": {},
   "source": [
    "### Table of Contents\n",
    "\n",
    "1. [Introduction](#1.-Introduction)\n",
    "  1. [Problem Description](#1.1.-Problem-Description)\n",
    "  2. [Goals and Objectives](#1.2.-Goals-and-Objectives)\n",
    "  3. [Report Outline](#1.3.-Report-Outline)\n",
    "2. [Mathematical Model](#2.-Mathematical-Model)\n",
    "  1. [Concepts & Terminologies](#2.1.-Concepts-&-Terminologies)\n",
    "  2. [Metric for Objectives](#2.2.-Metric-for-Objectives)\n",
    "  3. [Perfect Information](#2.3.-Perfect-Information)\n",
    "    1. [Knowing Arrival Time & Duration](#2.3.1.-Knowing-Arrival-Time-&-Duration)\n",
    "    2. [Multicores](#2.3.2.-Multicores)\n",
    "    3. [Process Dependency](#2.3.3.-Process-Dependency)\n",
    "  4. [Robust Integer Programming](#2.4.-Robust-Programming)\n",
    "    1. [Unknown Duration](#2.4.1.-Unknown-Duration)\n",
    "    2. [Unknown Duration & Unknown Arrival Time](#2.4.2.-Unknown-Duration-&-Unknown-Arrival-Time)\n",
    "  5. [Stochastic Programming](#2.5.-Stochastic-Programming)\n",
    "    1. [Unknown Duration](#2.5.1.-Unknown-Duration)\n",
    "    2. [Unknown Duration & Unknown Arrival Time](#2.5.2.-Unknown-Duration-&-Unknown-Arrival-Time)\n",
    "3. [Solution](#3.-Solution)\n",
    "4. [Results and Discussion](#4.-Results-And-Discussion)\n",
    "5. [Conclusion](#5.-Conclusion)\n",
    "6. [References](#6.-References)\n",
    "\n",
    "*****\n",
    "\n",
    "#### Note: ####\n",
    "- **Interactive design**: In solution part, readers can choose whether they want to make their CPU scheduler to emphasize fairness, efficiency, or responsiveness by adjusting weight to corresponding metrics.\n",
    "- **Latex rendering**: Please open our project in Jupyter notebook instead of viewing it in nbviewer."
   ]
  },
  {
   "cell_type": "markdown",
   "metadata": {
    "collapsed": true
   },
   "source": [
    "## 1. Introduction ##\n",
    "\n",
    "### 1.1. Problem Description ###\n",
    "\n",
    "Sitting in front of your personal computer, perhaps you are playing a video game, browsing a website, and having a chat with your friends via WeChat at the same time. How could it be possible to open so many applications on a computer and run them at the same time? Who is in charge here? The answer is the operating system.\n",
    "\n",
    "<img src=\"operating_system.jpg\" width=\"450\" height=\"400\" />\n",
    "###### <center>Fig. 1: Operating system makes it possible to run multiple applications at the same time</center> ######\n",
    "\n",
    "The **Operating System**(OS) is a really important piece of software present in virtually all computer systems, which manages computer hardware and softwares and provides common resources for computer programs. A computer program is a piece of code but it lives as a process when it is being executed. One of the duties of an operating system is to schedule processes to run on the computer. In 1950s, process scheduling was not an issue because there is not so much process so that the OS can serve all users/processes one by one. When it came to 1960s - early 1980s, multiprogramming and time-sharing evolves([history](https://en.wikipedia.org/wiki/Timeline_of_operating_systems)). Process scheduling should handle multiple processes, swap job to avoid idleness. There will be many processes that want to be executed. Time-sharing OS allows many users/processes to share the computing resources such as main memory, input/output(I/O) devices, files, etc.\n",
    "\n",
    "The OS has many components which work together to help carry out resource management duties. For example there is a memory manager(manages the usage of the main memory), various device drivers(carry out low-level interactions with hardware devices), I/O manager(handles data transfer between memory and I/O devices), process manager(creates and destroys processes), file system manager(manages the file system), etc. Another important component is the process scheduler, also known as the **Central Processing Unit**(CPU), which is the focus of this project.\n",
    "\n",
    "<!--![A shot of processes running on a multicore CPU and the resource usage](cpu_scheduling.png =100x20)-->\n",
    "<img src=\"cpu_scheduling.png\" width=\"540\" height=\"270\" />\n",
    "###### <center>Fig. 2: A shot of processes running on a 4-core CPU and the resource usage</center> ######\n",
    "\n",
    "The job of the scheduler is to assign tasks to CPUs, i.e. what is the next process to be run on which CPU. For a computer, there could be multiple CPUs and each CPU could have multiple cores. For a process, it could generate a number of threads to be executed at the same time. Since every core in a CPU could run its assigned task at the same time, we could seen a core as the most basic execution unit. In addition, since a thread is similar as a process(and in some OS they are treat nearly the same way) we could seen a thread as a process. Therefore, the number of processes that can be run at the same time($X$) can be expressed by the multiplication of the number of CPUs($C$) and the number of cores per CPU($c_{i}$):\n",
    "\n",
    "$$\n",
    "X = \\sum_{i=1}^{C} c_i\n",
    "$$\n",
    "\n",
    "However, things are really complicated in reality. There can be mainly two kinds of processes, one is called CPU-bound process and the other is called I/O-bound process, which should be treated differently. There may also be dependencies or conflicts among different processes. A process cannot continue running without another process returning a result, or two processes are using the same resource so that they cannot be scheduled to run at the same time. In addition, scheduling among multicores brings more cost caused by **context switch**. When the ongoing process is being replaced by another process before it is done, its state information should be stored to somewhere else(main memory or hard disk) and the new process' state information(if exists) should be moved to CPU. This process is called context switch. Switching between different cores leads to more cost. Last but not least, a CPU cannot predict when a process will finish its execution and it is not possible for a CPU to know when a particular process will arrive.\n",
    "\n",
    "Considering all the complexities, we will present a general model in this report to solve this problem and offer an efficient solution for scheduling processes in multicore CPU.\n",
    "\n",
    "### 1.2. Goals and Objectives ###\n",
    "\n",
    "How the CPU, the bottleneck device in the whole computer, is scheduled, has a huge impact on the performance of the computer system. To make better decisions, the following objectives have to be met:\n",
    "\n",
    "- Minimize the total turnaround time: turnaround time is the period of time between the arrival of a process and the time it is finished, which should be as small as possible;\n",
    "- Maximize the number of processes that can be completed in a certain period of time, i.e. maximize the throughput.\n",
    "- Be fair to every process: there should not be any process being wait for a long time without being executed;\n",
    "- Be as responsive as possible: a process should be treated soon after its arrival;\n",
    "\n",
    "### 1.3. Report Outline ###\n",
    "\n",
    "First of all, several key terminologies will be introduced in section 2.1., followed by a section introducing the metric we used in our models to measure the objectives. This report will divide the whole problem into multiple stages, progressively solving more complex versions of this problem. Starting with something simple that we know the arrival time and the duraiton of each process(model 2.3.1.), then comes multicores(model 2.3.2.), then we deal with process dependencies(model 2.3.3.). After talking about models under perfect information, we will use two different models: robust programming(model 2.4.) and stochastic programming(model 2.5.) to deal with uncertainty in arrival time and duraiton of processes.\n",
    "\n",
    "After presenting the models, we will give our solutions to each of the models and discuss about the result of the solutions. Different test cases and data can be come up with or drawn from the internet. Comparisons between our scheduling optimization and extant scheduling algorithms will also be made in the discussion section.\n",
    "\n",
    "[shot]: https://github.com/tony-wj/Julia_hw/blob/master/cpu_scheduling.png"
   ]
  },
  {
   "cell_type": "markdown",
   "metadata": {},
   "source": [
    "## 2. Mathematical Model ##\n",
    "\n",
    "### 2.1. Concepts & Terminologies ###\n",
    "\n",
    "Before we talking about the mathematical models, here are several terms and concepts the reader need to know:\n",
    "\n",
    "- **CPU-bound(compute-bound) process**: when running, tends to use all the processor time that allocated to it;\n",
    "- **I/O-bound process**: tends to use the processor only briefly before generating I/O request and relinquishes the processor;\n",
    "    - Usually interactive, i.e. it is real-time and need **immediate reaction** from the OS, e.g. pressing a key on the keyboard\n",
    "- **Process vs Thread**: they are both independent sequences of execution and the typical difference is that threads(of the same process) run in a shared memory space, while processes run in separate memory spaces;\n",
    "- **Turnaround time**: the amount of time to execute a particular process(from submission to complete servicing);\n",
    "    - $T_{turnaround}=T_{completion}-T_{arrival}$\n",
    "- **Waiting time**: the amount of time a process was waiting in the ready queue(not being served);\n",
    "- **Response time**: the amount of time it takes from when a process(job) is submitted to the first time it is scheduled(arrived but not getting served yet);\n",
    "    - An important performance metric of interactive tasks\n",
    "- **Throughput**: average number of processes that complete their execution per time unit;\n",
    "- **Fairness**: all similar processes are treated the same, and even if processes are in different priority classes, no process should suffer indefinite postponement(starvation) due to scheduling;\n",
    "- **Context-switch cost**: a context switch is the process of storing the state of a process or of a thread, so that it can be restored and execution resumed from the same point later(context-switch from one core to another is more expensive than swiching on the same core);\n",
    "    - A kind of extra cost that we want to avoid\n",
    "\n",
    "Although the realistic problem is actually really complicated and thorny, our key insights could help a lot the formulation of the model from the problem.\n",
    "\n",
    "- All process could be seen as only using the CPU, i.e. no I/O. The reason behind is that jobs with I/O interact with the CPU for a tiny time period and then access the I/O so that they can be treated with each CPU burst(separated by I/O) as an independent job.\n",
    "- Treat each thread as a process. Because they are both indenpendent execution of programs, both have context switch cost (and in fact in many modern OSs like Linux they are treated the same way).\n",
    "\n",
    "### 2.2. Metric for Objectives ###\n",
    "\n",
    "- Turnaround time: Let $A_{i}$, $F_{i}$, and $s_{i}$ be the arrival time, finish time, and duration of the i-th process respectively. Thus the metric for the turnaround time is:\n",
    "<br><br>\n",
    "$$Tu(\\boldsymbol{X})=\\frac{\\sum_{i=1}^n (F_{i}-A_{i})}{\\sum_{i=1}^n s_{i}}$$\n",
    "<br>\n",
    "- Fairness: Let $W_{i}$ be the total amount of waiting time for the i-th process(after the arrival and before complete), then fairness can be measured by the variance:\n",
    "<br><br>\n",
    "$$\n",
    "F(\\boldsymbol{X})=\\sigma^2\\\\\n",
    "\\sigma^2 = \\frac{\\sum_{i=1}^{n}(W_i - \\mu)^2} {n}\\\\\n",
    "\\mu = \\frac{\\sum_{i=1}^n W_{i}}{n}\n",
    "$$\n",
    "<br>\n",
    "- Responsiveness: Let $E_{i}$ be the time when the process i first being executed, and the metric is:\n",
    "<br><br>\n",
    "$$R(\\boldsymbol{X})=\\sum_{i=1}^n E_i$$\n",
    "<br>\n",
    "- Cost: Let $\\Psi(p, q, i, j)$ be the context switch cost of switching on core $p$ from process i to process j, and process j' previous state information is stored near core $q$. The cost of each context switch is:\n",
    "<br><br>\n",
    "$$\n",
    "\\Psi(p, q, i, j) = \\left\\{\n",
    "        \\begin{array}{ll}\n",
    "            0 & i=j \\\\\n",
    "            \\psi_1 & i\\neq j, p = q \\\\\n",
    "            \\psi_2 & i\\neq j, p\\neq q \n",
    "        \\end{array}\n",
    "    \\right.\n",
    "$$\n",
    "<br>\n",
    "The total context switch cost of single-core CPU is:\n",
    "<br><br>\n",
    "$$\n",
    "C_1(\\boldsymbol{X})=\\sum_{t=2}^m \\sum_{i -> j}^{n*n} \\Psi(c, c, i, j)\n",
    "$$\n",
    "<br>\n",
    "The total context switch cost of multi-core CPU is(given core set $Co$):\n",
    "<br><br>\n",
    "$$\n",
    "C_2(\\boldsymbol{X})=\\sum_{t=2}^m \\sum_{p, q\\in Co} \\sum_{i -> j}^{n*n} \\Psi(p, q, i, j)\n",
    "$$\n",
    "<br>\n",
    "- Throughput: Let $Th(x)$ be the throughput of in the time interval, and $\\Phi_i$ denote the binary variable whether the process is completed. \n",
    "$$\n",
    "Th(\\boldsymbol{X})= \\sum_{i=1}^n \\Phi_i\n",
    "$$\n",
    "\n",
    "### 2.3. Perfect Information ###\n",
    "#### 2.3.1. Knowing Arrival Time & Duration ####\n",
    "We divide the time horizon into a number of time units. We only consider time in $[0, m]$ where $m$ is the maximum possible processing time. Let $\\mathcal{T}$ denote the set of time units, and $|\\mathcal{T}|=m$. Let $\\mathcal{N}$ denote the set of tasks, where $|\\mathcal{N}|=n$. Each process $n \\in \\mathcal{N}$ has following attributes: duration $s_n$, arrival time $t_n$. \n",
    "\n",
    "<img src=\"assignment_graph.png\" width=\"400\" height=\"400\" />\n",
    "<center>Fig. 3: An example of time units assignment</center>\n",
    "\n",
    "The task scheduler assigns each process to the time units, hence we can formulate an Generalized Assignment Problem(GAP). Let binary decision variable $x_{ij}$ denote the j-th time unit is assigned to i-th process. The i-th process requires $s_i$ amount of time to process, and each time unit is at most associated with one process. We have:\n",
    "\n",
    "$$\n",
    "\\begin{aligned}\n",
    "\\sum_{j=1}^m x_{ij} = s_i \\qquad \\forall i \\in \\mathcal{N}\\\\\n",
    "\\sum_{i=1}^n x_{ij} \\leq 1 \\qquad \\forall j \\in \\mathcal{T}\n",
    "\\end{aligned}\n",
    "$$\n",
    "\n",
    "Note we can only assign time units after arrival of each process, hence the first constraint should be modified as:\n",
    "\n",
    "$$\n",
    "\\begin{aligned}\n",
    "\\sum_{j = t_i}^m x_{ij} = s_i \\qquad \\forall i \\in \\mathcal{N}\\\\\n",
    "\\sum_{j = 1}^{t_i} x_{ij} = 0 \\qquad \\forall i \\in \\mathcal{N}\n",
    "\\end{aligned}\n",
    "$$\n",
    "\n",
    "Each feasible assignment $\\mathbf{x}$ is measured by turnaround time $T(\\mathbf{x})$, fairness $F(\\mathbf{x})$, responsiveness $R(\\mathbf{x})$. And cost $C_1(\\mathbf{x})$ is included to penalize switch of processed between time units. \n",
    "\n",
    "The standard form of the model can be written as: "
   ]
  },
  {
   "cell_type": "markdown",
   "metadata": {},
   "source": [
    "$$\n",
    "\\begin{aligned}\n",
    "\\underset{x \\in \\mathbb{R^{n×m}}}{\\text{minimize}}\\qquad& Tu(x)+F(x)+R(x)+C_1(x)-Th(x)\\\\\n",
    "\\text{subject to:}\\qquad& \\sum_{j = t_i}^m x_{ij} - s_i \\leq M \\Phi_i - \\epsilon(1-\\Phi_i) \\qquad \\forall i \\in \\mathcal{N}\\\\\n",
    "& \\sum_{j = t_i}^m x_{ij} - s_i \\geq m (1-\\Phi_i)+ \\epsilon \\Phi_i \\qquad \\forall i \\in \\mathcal{N}\\\\\n",
    "& \\sum_{j = 1}^{t_i} x_{ij} = 0 \\qquad \\forall i \\in \\mathcal{N}\\\\\n",
    "& \\sum_{i=1}^n x_{ij} \\leq 1 \\qquad \\forall j \\in \\mathcal{T}\\\\\n",
    "& x_{ij} \\in \\{0,1\\} \\qquad \\forall i \\in \\mathcal{N} \\quad j \\in \\mathcal{T}\n",
    "\\end{aligned}\n",
    "$$\n"
   ]
  },
  {
   "cell_type": "markdown",
   "metadata": {},
   "source": [
    "#### 2.3.2. Multicores ####\n",
    "\n",
    "Let $\\mathcal{C}$ denote the set of cores, and $|\\mathcal{C}|=c$. Binary decision variable $x_{ijk}$ donote the i-th process is assigned to the j-th time unit of core k. Another cost $C_2(x)$ is imposed if tasks is switched between cores. Now the standard form of the model can be rewritten as: \n",
    "\n",
    "$$\n",
    "\\begin{aligned}\n",
    "\\underset{x \\in \\mathbb{R^{n×m×c}}}{\\text{minimize}}\\qquad& Tu(x)+F(x)+R(x)+C_1(x)+C_2(x)-Th(x) \\\\\n",
    "\\text{subject to:}\\qquad& \\sum_{k = 1}^c \\sum_{j = t_i}^m x_{ijk} - s_i \\leq M \\Phi_i - \\epsilon(1-\\Phi_i) \\qquad \\forall i \\in \\mathcal{N}\\\\\n",
    "& \\sum_{k = 1}^c \\sum_{j = t_i}^m x_{ijk} - s_i \\geq m (1-\\Phi_i)+ \\epsilon \\Phi_i \\qquad \\forall i \\in \\mathcal{N}\\\\\n",
    "& \\sum_{j = 1}^{t_i} x_{ijk} = 0 \\quad \\forall i \\in \\mathcal{N} \\quad k \\in \\mathcal{C}\\\\\n",
    "& \\sum_{i=1}^n x_{ijk} \\leq 1 \\quad \\forall j \\in \\mathcal{T} \\quad k \\in \\mathcal{C}\\\\\n",
    "& x_{ijk} \\in \\{0,1\\} \\quad \\forall i \\in \\mathcal{N} \\quad j \\in \\mathcal{T} \\quad k \\in \\mathcal{C}\n",
    "\\end{aligned}\n",
    "$$"
   ]
  },
  {
   "cell_type": "markdown",
   "metadata": {},
   "source": [
    "#### 2.3.3. Process Dependency ####\n",
    "If process h is dependent on process g, which means process h should be hanlded strictly after g temporally. \n",
    "\n",
    "$$\n",
    "\\begin{align}\n",
    " j \\cdot x_{hjk} \\geq j \\cdot x_{gjk}+1 \\quad \\forall j \\in \\mathcal{T} \\quad k \\in \\mathcal{C}\n",
    "\\end{align}\n",
    "$$"
   ]
  },
  {
   "cell_type": "markdown",
   "metadata": {},
   "source": [
    "### 2.4. Robust Programming ###\n",
    "\n",
    "In reality, the arrival time of the processes $\\bf{t}$ and the time required to complete the processes $\\bf{s}$ are random. Hence the scheduler does not have perfect information as discussed in above section. Regarding to the dynamic nature of the problem, we can further propose a robust programming model where these variables are subject to box constraints. This section is organized as following: First we propose a variant of the static model if process duration is unknown, and then we extend the model on the condition of unknow durations and unknown arrivals. \n",
    "\n",
    "#### 2.4.1. Unknown Duration ####\n",
    "If the duration of the process is uncertain and is subject to some distribution. And assume somehow we know the distribution and the duration is subject to a box constraint. Let $\\bar{s}$ denote some nominal value of the duration, and $u$ denote the uncertainty. \n",
    "\n",
    "$$\n",
    "\\begin{align}\n",
    "s = \\bar{s}+\\rho^s \\cdot u\\\\\n",
    "0 \\leq ||u||_{\\infty} \\leq 1\n",
    "\\end{align}\n",
    "$$\n",
    "\n",
    "#### 2.4.2. Unknown Duration & Unknown Arrival Time ####\n",
    "\n",
    "If both the duration and arrival time of the process are uncertain. Similarly, we assume we know the variables are subject to a box constraint. Let $\\bar{t}$ denote the nominal value of arrival time. \n",
    "\n",
    "$$\n",
    "\\begin{align}\n",
    "t = \\bar{t}+\\rho^t \\cdot u\\\\\n",
    "0 \\leq ||u||_{\\infty} \\leq 1\n",
    "\\end{align}\n",
    "$$"
   ]
  },
  {
   "cell_type": "markdown",
   "metadata": {},
   "source": [
    "### 2.5. Stochastic Programming ###\n",
    "\n",
    "- Background knowledge for stochastic programming \n",
    "\n",
    "Stochastic programming is a framework for modeling optimization problems that involve uncertainty. The goal here is to find some policy that is feasible for all (or almost all) the possible data instances and minimizes the expectation of some function of the decisions and the random variables. The basic formulation of stochastic programming is:\n",
    "\n",
    "$$\n",
    "\\begin{aligned}\n",
    "\\text{minimize}\\qquad& F_0(x) = \\textbf{E} f_0(x,w) \\\\\n",
    "\\text{subject to:}\\qquad& F_i(x) = \\textbf{E} f_i(x,w) \\leq 0 \\quad\\forall i \\in I\\\\\n",
    "\\end{aligned}\n",
    "$$\n",
    "\n",
    "where $x$ are decision variables and $w$ is parameters subject to some distribution.\n",
    "\n",
    "- Chance constraints\n",
    "\n",
    "‘chance constraints’ (η is ‘confidence level’):\n",
    "$$\n",
    "\\begin{aligned}\n",
    "\\textbf{Prob}(f_i(x,w) \\leq 0 ) \\geq \\eta\n",
    "\\end{aligned}\n",
    "$$\n",
    "\n",
    "- Finite Set \n",
    "\n",
    "Suppose $w \\in \\{w_1, \\dots,  w_N \\}$ with $\\pi_j = \\textbf{Prob}(w = w_j)$ \n",
    "\n",
    "$$\n",
    "\\begin{aligned}\n",
    "\\text{minimize}\\qquad& F_0(x) = \\sum_j^{N} \\pi_j f_0(x,w_j) \\\\\n",
    "\\text{subject to:}\\qquad& F_i(x) = \\sum_j^{N} \\pi_j f_i(x,w_j) \\leq 0 \\quad\\forall i \\in I\\\\\n",
    "\\end{aligned}\n",
    "$$\n",
    "#### 2.5.1. Unknown Duration ####\n",
    "\n",
    "$$s_i = \\bar{s_i}$$\n",
    "\n",
    "#### 2.5.2. Unknown Duration & Unknown Arrival Time ####\n",
    "\n",
    "$$s_i = \\bar{s_i}$$\n",
    "$$t_i = \\bar{t_i}$$"
   ]
  },
  {
   "cell_type": "markdown",
   "metadata": {
    "collapsed": true
   },
   "source": [
    "## 3. Solution ##\n",
    "\n",
    "### 3.1 Perfect Knowledge"
   ]
  },
  {
   "cell_type": "code",
   "execution_count": null,
   "metadata": {
    "collapsed": true
   },
   "outputs": [],
   "source": [
    "# Define input data\n",
    "\n",
    "num_tasks = 5\n",
    "A = [1, 2, 4, 6, 8]\n",
    "D = [3, 6, 4, 5, 2]\n",
    "max_time = minimum(A) + sum(D) + 2\n",
    "psi_1 = 0.4\n",
    "ε = 0.0001"
   ]
  },
  {
   "cell_type": "code",
   "execution_count": 19,
   "metadata": {
    "collapsed": false
   },
   "outputs": [
    {
     "name": "stdout",
     "output_type": "stream",
     "text": [
      "Academic license - for non-commercial use only\n",
      "Optimal\n",
      "[1.0, 0.0, 0.0, -0.0, 1.0, -0.0, 1.0, 0.0, 0.0, -0.0, 0.0, -0.0, 0.0, -0.0, -0.0, -0.0, -0.0, -0.0, -0.0, -0.0, -0.0, -0.0, -0.0]\n",
      "[-0.0, 1.0, 1.0, -0.0, 0.0, -0.0, -0.0, -0.0, -0.0, -0.0, 0.0, -0.0, 1.0, 1.0, 1.0, 1.0, -0.0, -0.0, -0.0, 0.0, -0.0, -0.0, 0.0]\n",
      "[-0.0, -0.0, -0.0, 1.0, 0.0, -0.0, -0.0, -0.0, 0.0, 1.0, 1.0, 1.0, -0.0, 0.0, -0.0, -0.0, -0.0, -0.0, -0.0, -0.0, -0.0, -0.0, -0.0]\n",
      "[-0.0, -0.0, -0.0, -0.0, -0.0, 1.0, 0.0, -0.0, -0.0, -0.0, -0.0, -0.0, -0.0, -0.0, 0.0, -0.0, 1.0, 1.0, 1.0, 1.0, -0.0, -0.0, -0.0]\n",
      "[-0.0, -0.0, -0.0, -0.0, -0.0, -0.0, -0.0, 1.0, 1.0, 0.0, 0.0, -0.0, 0.0, 0.0, -0.0, -0.0, 0.0, -0.0, -0.0, -0.0, -0.0, -0.0, -0.0]\n"
     ]
    }
   ],
   "source": [
    "using JuMP, Gurobi\n",
    "\n",
    "m = Model(solver=GurobiSolver(OutputFlag=0))\n",
    "\n",
    "@variable(m, x[1:num_tasks, 1:max_time], Bin)  # x[i, j] == 1 <=> task i gets executed at time j\n",
    "\n",
    "@variable(m, F[1:num_tasks] >= 1, Int) # Finish time of each task\n",
    "\n",
    "@variable(m, W[1:num_tasks] >= 0, Int) # Waiting time of each task\n",
    "\n",
    "@variable(m, 1 <= E[1:num_tasks] <= max_time, Int) # Start time of each task\n",
    "@variable(m, E_y[1:num_tasks, 1:max_time] >= 0, Int) # Assistant variable of start time\n",
    "@variable(m, E_z[1:num_tasks, 1:max_time], Bin)      # Assistant variable of start time\n",
    "\n",
    "@variable(m, Psi_y[1:num_tasks, 1:max_time-1], Int) # Assistant variable for context switch\n",
    "@variable(m, Psi[1:num_tasks, 1:max_time-1], Bin)\n",
    "\n",
    "# General Constraints\n",
    "for i = 1:num_tasks\n",
    "    for j = 1:(A[i]-1)\n",
    "        @constraint(m, x[i,j] == 0)            # A task should not be worked on before it arrives\n",
    "    end\n",
    "    \n",
    "    @constraint(m, sum(x[i,:]) == D[i])        # Total time quantums occupied by the task should be equal to its length\n",
    "    \n",
    "    for j = A[i]:max_time\n",
    "        @constraint(m, F[i] >= j*x[i, j] + 1)      # Finish time is the last 1 of each task\n",
    "    end\n",
    "    \n",
    "end\n",
    "\n",
    "for j = 1:max_time\n",
    "    @constraint(m, sum(x[:,j]) <= 1)           # Each time quantum should be occupied by at most 1 task\n",
    "end\n",
    "\n",
    "# Expressing W\n",
    "for i = 1:num_tasks\n",
    "    @constraint(m, W[i] == F[i] - D[i] - A[i]) # Waiting time is the number of zero time slots\n",
    "end\n",
    "\n",
    "# Expressing E\n",
    "for i = 1:num_tasks \n",
    "    for j = 1:max_time\n",
    "        @constraint(m, E_y[i, j] == sum(x[i,1:j]))\n",
    "    end\n",
    "    \n",
    "    @constraint(m, E_y[i,:] - 1 .<= max_time*E_z[i,:] - ε*(1-E_z[i,:])) # aTx − b ≤ Mz − ε(1−z)\n",
    "    @constraint(m, E_y[i,:] .>= ε*E_z[i,:])                             # aTx −b ≥ m(1−z) + εz\n",
    "    @constraint(m, E[i] == sum(1-E_z[i,:])+1)\n",
    "end\n",
    "\n",
    "# Expressing Psi\n",
    "for i = 1 : max_time-1\n",
    "    @constraint(m, Psi_y[:,i] .== x[:,i+1] .- x[:,i])\n",
    "end\n",
    "\n",
    "for i = 1:max_time-1\n",
    "    for j = 1:num_tasks\n",
    "        @constraint(m, Psi[j,i] >= Psi_y[j,i])\n",
    "    end\n",
    "end\n",
    "\n",
    "@expression(m, Tu_x, sum(F-A)/sum(D))\n",
    "@expression(m, mu, sum(W)/num_tasks)\n",
    "@expression(m, F_x, sum((W-mu).^2)/num_tasks)\n",
    "@expression(m, R_x, sum(E-A)/num_tasks)\n",
    "@expression(m, C1_x, sum(Psi))\n",
    "\n",
    "@objective(m, Min, Tu_x + F_x + 0.1*R_x + 0.0001*C1_x)\n",
    "\n",
    "status = solve(m)\n",
    "println(status)\n",
    "x = getvalue(x)\n",
    "for i = 1:num_tasks\n",
    "    println(x[i,:])\n",
    "end"
   ]
  },
  {
   "cell_type": "code",
   "execution_count": 40,
   "metadata": {
    "collapsed": false
   },
   "outputs": [
    {
     "name": "stdout",
     "output_type": "stream",
     "text": [
      "-0.050000000000000044\n",
      "2.8000000000000003\n",
      "31.360000000000007\n",
      "18.8\n",
      "1.0\n",
      "0.0\n",
      "[0.0, 1.0, 0.0, 0.0, 0.0]\n",
      "-5.9999981237456e7\n"
     ]
    }
   ],
   "source": [
    "# debug\n",
    "println(\"turnaround time: \", getvalue(Tu_x))\n",
    "# println(getvalue(mu))\n",
    "println(\"fairness: \", getvalue(F_x))\n",
    "println(\"responsiveness: \", getvalue(R_x))\n",
    "println(\"throughput: \", getvalue(Th_x))\n",
    "println(\"cost: \", getvalue(C1_x))"
   ]
  },
  {
   "cell_type": "code",
   "execution_count": 21,
   "metadata": {
    "collapsed": false
   },
   "outputs": [
    {
     "data": {
      "image/png": "[encoded data removed]",
      "text/plain": [
       "PyPlot.Figure(PyObject <matplotlib.figure.Figure object at 0x1319e7190>)"
      ]
     },
     "metadata": {},
     "output_type": "display_data"
    }
   ],
   "source": [
    "using PyPlot \n",
    "\n",
    "figure(figsize=(max_time, num_tasks))\n",
    "xlim([0.5, max_time+1])\n",
    "ylim([0, num_tasks+1])\n",
    "xlabel(\"time axis\") \n",
    "ylabel(\"tasks\")\n",
    "title(\"CPU Process Schedule\")\n",
    "\n",
    "colors = [\"purple\", \"red\", \"orange\", \"green\", \"brown\"]\n",
    "\n",
    "count = 0\n",
    "for p in A\n",
    "    arrow(p, count+2, 0, -1, head_width=0.05, width=0.01, head_length=0.1, overhang=0.5, head_starts_at_zero=\"true\", facecolor=\"red\")\n",
    "    count += 1\n",
    "end\n",
    "\n",
    "for t in 1 : max_time\n",
    "    for p in 1 : num_tasks\n",
    "        if x[p, t] > 0.9\n",
    "            fill([t, t+1, t+1, t], [p-1, p-1, p, p], color = colors[p]);\n",
    "        end\n",
    "    end\n",
    "end"
   ]
  },
  {
   "cell_type": "code",
   "execution_count": 107,
   "metadata": {
    "collapsed": false
   },
   "outputs": [
    {
     "data": {
      "image/png": "[encoded data removed]",
      "text/plain": [
       "PyPlot.Figure(PyObject <matplotlib.figure.Figure object at 0x00000000481AA940>)"
      ]
     },
     "metadata": {},
     "output_type": "display_data"
    },
    {
     "name": "stdout",
     "output_type": "stream",
     "text": [
      "[1, 2, 3, 4, 5]\n",
      "[-1.0, -1.0, -1.0, -1.0, -1.0]\n",
      "[2.0, 14.0, 7.0, 14.0, 8.0]\n",
      "[4.0, 18.0, 7.0, 13.0, 2.0]\n"
     ]
    }
   ],
   "source": [
    "# waiting time, response time, turnaround time, durations\n",
    "processes = collect(1:5)\n",
    "println(processes)\n",
    "\n",
    "response_time = getvalue(E) - A\n",
    "println(response_time)\n",
    "\n",
    "waiting_time = getvalue(W)\n",
    "println(waiting_time)\n",
    "\n",
    "turnaround_time = getvalue(F) - A\n",
    "println(turnaround_time)\n",
    "\n",
    "fig = figure(figsize=(10,10)) \n",
    "subplot(\"221\")\n",
    "title(\"Duration Distribution\")\n",
    "labels = [\"P1\";\"P2\";\"P3\";\"P4\";\"P5\"]\n",
    "colors = [\"yellowgreen\";\"gold\";\"lightskyblue\";\"lightcoral\";\"mediumpurple\"]\n",
    "pie(D, labels=labels, shadow=true, startangle=90, colors=colors, autopct=\"%.1f%%\") # , autopct=\"%1.1f%%\"\n",
    "\n",
    "subplot(\"222\")\n",
    "title(\"Waiting Time\")\n",
    "bar(processes, waiting_time, color=\"#0f87bf\", align=\"center\", alpha=0.4)\n",
    "\n",
    "subplot(\"223\")\n",
    "title(\"Response Time\")\n",
    "bar(processes, response_time, color=\"darkseagreen\", align=\"center\", alpha=0.4)\n",
    "\n",
    "subplot(\"224\")\n",
    "title(\"Turnaround Time\")\n",
    "bar(processes, turnaround_time, color=\"sandybrown\", align=\"center\", alpha=0.4);"
   ]
  },
  {
   "cell_type": "markdown",
   "metadata": {
    "collapsed": true
   },
   "source": [
    "## 4. Results And Discussion ##\n",
    "\n",
    "### Visualization ###\n",
    "\n",
    "```\n",
    "tu = getvalue(Tu_x)\n",
    "mu = getvalue(mu)\n",
    "fx = getvalue(F_x)\n",
    "rx = getvalue(R_x)\n",
    "th = getvalue(Th_x)\n",
    "C1_x = getvalue(C1_x)\n",
    "\n",
    "println(\"turnaround: \", tu)\n",
    "println(\"avg wait time: \", mu)\n",
    "println(\"variance: \", fx)\n",
    "println(\"responsiveness: \", rx)\n",
    "println(\"throughput: \", th)\n",
    "println(\"cost: \", C1_x)\n",
    "println(getobjectivevalue(m))\n",
    "```\n",
    "\n",
    "### Sensitivity Analsis ###\n",
    "\n",
    "Here, you display and discuss the results. Show figures, plots, images, trade-off curves, or whatever else you can think of to best illustrate your results. The discussion should explain what the results mean, and how to interpret them. You should also explain the limitations of your approach/model and how sensitive your results are to the assumptions you made.\n",
    "\n",
    "Use plots (see `PyPlot` examples from class), or you can display results in a table like this:\n",
    "\n",
    "| Tables        | Are           | Cool  |\n",
    "| ------------- |:-------------:| -----:|\n",
    "| col 3 is      | right-aligned |\\$1600 |\n",
    "| col 2 is      | centered      |  \\$12 |\n",
    "| zebra stripes | are neat      |   \\$1 |"
   ]
  },
  {
   "cell_type": "markdown",
   "metadata": {
    "collapsed": true
   },
   "source": [
    "## 5. Conclusion ##\n",
    "\n",
    "Summarize your findings and your results, and talk about at least one possible future direction; something that might be interesting to pursue as a follow-up to your project."
   ]
  },
  {
   "cell_type": "markdown",
   "metadata": {
    "collapsed": true
   },
   "source": [
    "## 6. Reference ##\n",
    "\n",
    "1. Operating Systems, Wikipedia, refer to https://en.wikipedia.org/wiki/Operating_system\n",
    "2. Time-sharing, Wikipedia, refer to https://en.wikipedia.org/wiki/Time-sharing\n",
    "3. History of CPU process scheduling, refer to http://dave-reed.com/csc539.S05/Lectures/CPUsched.ppt\n",
    "4. Context Switch, Wikipedia, refer to https://en.wikipedia.org/wiki/Context_switch#Cost\n",
    "5.  http://web.stanford.edu/class/ee364a/lectures/stoch_prog.pdf\n",
    "6. Process scheduling under uncertainty: Review and challenges. Zukui Li, Marianthi Ierapetritou. Science Direct, Computers and Chemical Engineering 32 (2008) 715–727."
   ]
  },
  {
   "cell_type": "code",
   "execution_count": null,
   "metadata": {
    "collapsed": false
   },
   "outputs": [
    {
     "name": "stderr",
     "output_type": "stream",
     "text": [
      "\u001b[1m\u001b[36mINFO: \u001b[39m\u001b[22m\u001b[36mUpdating METADATA...\n",
      "\u001b[39m\u001b[1m\u001b[36mINFO: \u001b[39m\u001b[22m\u001b[36mUpdating cache of Blosc...\n",
      "\u001b[39m\u001b[1m\u001b[36mINFO: \u001b[39m\u001b[22m\u001b[36mUpdating cache of StatsBase...\n",
      "\u001b[39m\u001b[1m\u001b[36mINFO: \u001b[39m\u001b[22m\u001b[36mUpdating cache of NamedTuples...\n",
      "\u001b[39m\u001b[1m\u001b[36mINFO: \u001b[39m\u001b[22m\u001b[36mUpdating cache of LineSearches...\n",
      "\u001b[39m\u001b[1m\u001b[36mINFO: \u001b[39m\u001b[22m\u001b[36mUpdating cache of WeakRefStrings...\n",
      "\u001b[39m\u001b[1m\u001b[36mINFO: \u001b[39m\u001b[22m\u001b[36mUpdating cache of Compat...\n",
      "\u001b[39m\u001b[1m\u001b[36mINFO: \u001b[39m\u001b[22m\u001b[36mUpdating cache of Gurobi...\n",
      "\u001b[39m\u001b[1m\u001b[36mINFO: \u001b[39m\u001b[22m\u001b[36mUpdating cache of TextParse...\n",
      "\u001b[39m\u001b[1m\u001b[36mINFO: \u001b[39m\u001b[22m\u001b[36mUpdating cache of Dagger...\n",
      "\u001b[39m\u001b[1m\u001b[36mINFO: \u001b[39m\u001b[22m\u001b[36mUpdating cache of NLSolversBase...\n",
      "\u001b[39m\u001b[1m\u001b[36mINFO: \u001b[39m\u001b[22m\u001b[36mUpdating cache of Interact...\n",
      "\u001b[39m\u001b[1m\u001b[36mINFO: \u001b[39m\u001b[22m\u001b[36mUpdating cache of PyCall...\n",
      "\u001b[39m\u001b[1m\u001b[36mINFO: \u001b[39m\u001b[22m\u001b[36mUpdating cache of OnlineStats...\n",
      "\u001b[39m\u001b[1m\u001b[36mINFO: \u001b[39m\u001b[22m\u001b[36mUpdating cache of Calculus...\n",
      "\u001b[39m\u001b[1m\u001b[36mINFO: \u001b[39m\u001b[22m\u001b[36mUpdating cache of MathProgBase...\n",
      "\u001b[39m\u001b[1m\u001b[36mINFO: \u001b[39m\u001b[22m\u001b[36mUpdating cache of Hiccup...\n",
      "\u001b[39m\u001b[1m\u001b[36mINFO: \u001b[39m\u001b[22m\u001b[36mComputing changes...\n",
      "\u001b[39m\u001b[1m\u001b[36mINFO: \u001b[39m\u001b[22m\u001b[36mUpgrading Gurobi: v0.3.3 => v0.4.0\n",
      "\u001b[39m\u001b[1m\u001b[33mWARNING: \u001b[39m\u001b[22m\u001b[33mThe following packages have been updated but were already imported:\n",
      "- Gurobi\n",
      "Restart Julia to use the updated versions.\u001b[39m\n",
      "\u001b[1m\u001b[36mINFO: \u001b[39m\u001b[22m\u001b[36mBuilding Gurobi\n",
      "\u001b[39m"
     ]
    }
   ],
   "source": [
    "Pkg.update()"
   ]
  },
  {
   "cell_type": "code",
   "execution_count": null,
   "metadata": {
    "collapsed": true
   },
   "outputs": [],
   "source": []
  }
 ],
 "metadata": {
  "anaconda-cloud": {},
  "kernelspec": {
   "display_name": "Julia 0.6.2",
   "language": "julia",
   "name": "julia-0.6"
  },
  "language_info": {
   "file_extension": ".jl",
   "mimetype": "application/julia",
   "name": "julia",
   "version": "0.6.2"
  }
 },
 "nbformat": 4,
 "nbformat_minor": 1
}
