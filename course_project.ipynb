{
 "cells": [
  {
   "cell_type": "markdown",
   "metadata": {},
   "source": [
    "## <center>  CS/ECE/ISyE 524 &mdash; Introduction to Optimization &mdash; Spring 2018 </center>\n",
    "\n",
    "# <center> Optimizing Multi-core CPU Scheduling </center>\n",
    "\n",
    "#### <center> Haoran Qiu (hqiu35@wisc.edu), Jian Wu (jwu384@wisc.edu), Tao Ji (tji24@wisc.edu), Yanting Liang (yliang73@wisc.edu) </center>\n",
    "#### <center> Instructor: Prof. Laurent Lessard </center>\n",
    "#### <center> May 7<sup>th</sup>, 2018 </center>\n",
    "\n",
    "*****"
   ]
  },
  {
   "cell_type": "markdown",
   "metadata": {},
   "source": [
    "### Table of Contents\n",
    "\n",
    "1. [Introduction](#1.-Introduction)\n",
    "  1. [Problem Description](#1.1.-Problem-Description)\n",
    "  2. [Goals and Objectives](#1.2.-Goals-and-Objectives)\n",
    "  3. [Report Outline](#1.3.-Report-Outline)\n",
    "2. [Mathematical Model](#2.-Mathematical-Model)\n",
    "  1. [Perfect Information](#2.1.-Perfect-Information)\n",
    "    1. [Knowing Arrival Time & Duration](#2.1.1.-Knowing-Arrival-Time-&-Duration)\n",
    "    2. [Multicores](#2.1.2.-Multicores)\n",
    "    3. [Process Dependency](#2.1.3.-Process-Dependency)\n",
    "  2. [Robust Integer Programming](#2.2.-Robust-Programming)\n",
    "    1. [Unknown Duration](#2.2.1.-Unknown-Duration)\n",
    "    2. [Unknown Duration & Unknown Arrival Time](#2.2.2.-Unknown-Duration-&-Unknown-Arrival-Time)\n",
    "  3. [Stochastic](#2.3.-Stochastic)\n",
    "    1. [Unknown Duration](#2.3.1.-Unknown-Duation)\n",
    "    2. [Unknown Duration & Unknown Arrival Time](#2.3.2.-Unknown-Duration-&-Unknown-Arrival-Time)\n",
    "3. [Solution](#3.-Solution)\n",
    "4. [Results and Discussion](#4.-Results-And-Discussion)\n",
    "5. [Conclusion](#5.-Conclusion)\n",
    "6. [References](#6.-References)\n",
    "\n",
    "*****"
   ]
  },
  {
   "cell_type": "markdown",
   "metadata": {
    "collapsed": true
   },
   "source": [
    "## 1. Introduction ##\n",
    "\n",
    "### 1.1. Problem Description ###\n",
    "\n",
    "Sitting in front of your personal computer, perhaps you are playing a video game, browsing a website, and having a chat with your friends via WeChat at the same time. How could it be possible to open so many applications on a computer and run them at the same time? Who is in charge here? The answer is the operating system.\n",
    "\n",
    "<img src=\"operating_system.jpg\" width=\"450\" height=\"400\" />\n",
    "###### <center>Fig. 1: Operating system makes it possible to run multiple applications at the same time</center> ######\n",
    "\n",
    "The **Operating System**(OS) is a really important piece of software present in virtually all computer systems, which manages computer hardware and softwares and provides common resources for computer programs. A computer program is a piece of code but it lives as a process when it is being executed. One of the duties of an operating system is to schedule processes to run on the computer. In 1950s, process scheduling was not an issue because there is not so much process so that the OS can serve all users/processes one by one. When it came to 1960s - early 1980s, multiprogramming and time-sharing evolves([history](https://en.wikipedia.org/wiki/Timeline_of_operating_systems)). Process scheduling should handle multiple processes, swap job to avoid idleness. There will be many processes that want to be executed. Time-sharing OS allows many users/processes to share the computing resources such as main memory, input/output(I/O) devices, files, etc.\n",
    "\n",
    "The OS has many components which work together to help carry out resource management duties. For example there is a memory manager(manages the usage of the main memory), various device drivers(carry out low-level interactions with hardware devices), I/O manager(handles data transfer between memory and I/O devices), process manager(creates and destroys processes), file system manager(manages the file system), etc. Another important component is the process scheduler, also known as the **Central Processing Unit**(CPU), which is the focus of this project.\n",
    "\n",
    "<!--![A shot of processes running on a multicore CPU and the resource usage](cpu_scheduling.png =100x20)-->\n",
    "<img src=\"cpu_scheduling.png\" width=\"540\" height=\"270\" />\n",
    "###### <center>Fig. 2: A shot of processes running on a 4-core CPU and the resource usage</center> ######\n",
    "\n",
    "The job of the scheduler is to assign tasks to CPUs, i.e. what is the next process to be run on which CPU. For a computer, there could be multiple CPUs and each CPU could have multiple cores. For a process, it could generate a number of threads to be executed at the same time. Since every core in a CPU could run its assigned task at the same time, we could seen a core as the most basic execution unit. In addition, since a thread is similar as a process(and in some OS they are treat nearly the same way) we could seen a thread as a process. Therefore, the number of processes that can be run at the same time($X$) can be expressed by the multiplication of the number of CPUs($C$) and the number of cores per CPU($c_{i}$):\n",
    "\n",
    "$$\n",
    "X = \\sum_{i=1}^{C} c_i\n",
    "$$\n",
    "\n",
    "However, things are really complicated in reality. There can be mainly two kinds of processes, one is called CPU-bound process and the other is called I/O-bound process, which should be treated differently. There may also be dependencies or conflicts among different processes. A process cannot continue running without another process returning a result, or two processes are using the same resource so that they cannot be scheduled to run at the same time. In addition, scheduling among multicores brings more cost caused by **context switch**. When the ongoing process is being replaced by another process before it is done, its state information should be stored to somewhere else(main memory or hard disk) and the new process' state information(if exists) should be moved to CPU. This process is called context switch. Switching between different cores leads to more cost. Last but not least, a CPU cannot predict when a process will finish its execution and it is not possible for a CPU to know when a particular process will arrive.\n",
    "\n",
    "Considering all the complexities, we will present a general model in this report to solve this problem and offer an efficient solution for scheduling processes in multicore CPU.\n",
    "\n",
    "### 1.2. Goals and Objectives ###\n",
    "\n",
    "How the CPU, the bottleneck device in the whole computer, is scheduled, has a huge impact on the performance of the computer system. To make better decisions, the following objectives have to be met:\n",
    "\n",
    "- Minimize the total turnaround time: turnaround time is the period of time between the arrival of a process and the time it is finished, which should be as small as possible;\n",
    "- Maximize the number of processes that can be completed in a certain period of time, i.e. maximize the throughput.\n",
    "- Be fair to every process: there should not be any process being wait for a long time without being executed;\n",
    "- Be as responsive as possible: a process should be treated soon after its arrival;\n",
    "\n",
    "### 1.3. Report Outline ###\n",
    "\n",
    "This report will divide the whole problem into multiple stages, progressiely solving more complex versions of this problem. Staring with something simple that we know the arrival time and the duraiton of each process(model 2.A.a.), then comes multicores(model 2.A.b.), then we deal with process dependencies(model 2.A.c.). After talking about models under perfect information, we will use two different models: robust programming(model 2.B.) and stochastic programming(model 2.C.) to deal with uncertainty in arrival time and duraiton of processes.\n",
    "\n",
    "After presenting the models, we will give our solutions to each of the models and discuss about the result of the solutions. Different test cases and data can be come up with or drawn from the internet. Comparisons between our scheduling optimization and extant scheduling algorithms will also be made in the discussion section.\n",
    "\n",
    "[shot]: https://github.com/tony-wj/Julia_hw/blob/master/cpu_scheduling.png"
   ]
  },
  {
   "cell_type": "markdown",
   "metadata": {},
   "source": [
    "## 2. Mathematical Model ##\n",
    "\n",
    "Before we talking about the mathematical models, here are several terms and concepts the reader need to know:\n",
    "\n",
    "- **CPU-bound(compute-bound) process**: when running, tends to use all the processor time that allocated to it;\n",
    "- **I/O-bound process**: tends to use the processor only briefly before generating I/O request and relinquishes the processor;\n",
    "- **Process vs Thread**: they are both independent sequences of execution and the typical difference is that threads(of the same process) run in a shared memory space, while processes run in separate memory spaces;\n",
    "- **Turnaround time**: the amount of time to execute a particular process(from submission to complete servicing);\n",
    "    - $T_{turnaround}=T_{completion}-T_{arrival}$\n",
    "- **Waiting time**: the amount of time a process was waiting in the ready queue(not being served);\n",
    "- **Response time**: the amount of time it takes from when a process(job) is submitted to the first time it is scheduled(arrived but not getting served yet);\n",
    "    - An important performance metric of interactive tasks\n",
    "- **Throughput**: average number of processes that complete their execution per time unit;\n",
    "- **Fairness**: all similar processes are treated the same, and even if processes are in different priority classes, no process should suffer indefinite postponement(starvation) due to scheduling;\n",
    "- **Context-switch cost**: a context switch is the process of storing the state of a process or of a thread, so that it can be restored and execution resumed from the same point later(context-switch from one core to another is more expensive than swiching on the same core);\n",
    "    - A kind of extra cost that we want to avoid\n",
    "\n",
    "Although the realistc problem is actually really complicated and thorny, our key insights could help a lot the formulation of the model from the problem.\n",
    "\n",
    "- All process could be seen as only using the CPU, i.e. no I/O. The reason behind is that jobs with I/O interact with the CPU for a tiny time period and then access the I/O so that they can be treated with each CPU burst(separated by I/O) as an independent job.\n",
    "- Treat each thread as a process. Because they are both indenpendent execution of programs, both have context switch cost (and in fact in many modern OSs like Linux they are treated the same way).\n",
    "\n",
    "### 2.1. Perfect Information ###\n",
    "#### 2.1.1. Knowing Arrival Time & Duration ####\n",
    "We divide the time horizon into a number of time units. We only consider time in $(0, m]$ where $m$ is the maximum possible processing time. Let $\\mathcal{T}$ denote the set of time units, and $|\\mathcal{T}|=m$. Let $\\mathcal{N}$ denote the set of tasks, where $|\\mathcal{N}|=n$. Each process $n \\in \\mathcal{N}$ has following attributes: duration $s_n$, arrival time $t_n$. \n",
    "\n",
    "<img src=\"assignment_graph.png\" width=\"400\" height=\"400\" />\n",
    "<center>Fig. 3: An example of time units assignment</center>\n",
    "\n",
    "The task scheduler assigns each process to the time units, hence we can formulate an Generalized Assignment Problem(GAP). Let binary decision variable $x_{ij}$ denote the j-th time unit is assigned to i-th process. The i-th process requires $s_i$ amount of time to process, and each time unit is at most associated with one process. We have:\n",
    "\n",
    "$$\n",
    "\\begin{aligned}\n",
    "\\sum_{j=1}^m x_{ij} = s_i \\qquad \\forall i \\in \\mathcal{N}\\\\\n",
    "\\sum_{i=1}^n x_{ij} \\leq 1 \\qquad \\forall j \\in \\mathcal{T}\n",
    "\\end{aligned}\n",
    "$$\n",
    "\n",
    "Note we can only assign time units after arrival of each process, hence the first constraint should be modified as:\n",
    "\n",
    "$$\n",
    "\\begin{aligned}\n",
    "\\sum_{j = t_i}^m x_{ij} = s_i \\qquad \\forall i \\in \\mathcal{N}\\\\\n",
    "\\sum_{j = 1}^{t_i} x_{ij} = 0 \\qquad \\forall i \\in \\mathcal{N}\n",
    "\\end{aligned}\n",
    "$$\n",
    "\n",
    "Each feasible assignment $\\mathbf{x}$ is measured by turnaround time $T(\\mathbf{x})$, fairness $F(\\mathbf{x})$, responsiveness $R(\\mathbf{x})$. And cost $S(\\mathbf{x})$ is included to penalize switch of processed between time units. \n",
    "\n",
    "The standard form of the model can be written as: "
   ]
  },
  {
   "cell_type": "markdown",
   "metadata": {},
   "source": [
    "$$\n",
    "\\begin{aligned}\n",
    "\\underset{x \\in \\mathbb{R^{nm}}}{\\text{maximize}}\\qquad& T(x)+F(x)+R(x)-S(x)\\\\\n",
    "\\text{subject to:}\\qquad& \\sum_{j = t_i}^m x_{ij} = s_i \\qquad \\forall i \\in \\mathcal{N}\\\\\n",
    "& \\sum_{j = 1}^{t_i} x_{ij} = 0 \\qquad \\forall i \\in \\mathcal{N}\\\\\n",
    "& \\sum_{i=1}^n x_{ij} \\leq 1 \\qquad \\forall j \\in \\mathcal{T}\\\\\n",
    "& x_{ij} \\in \\{0,1\\} \\qquad \\forall i \\in \\mathcal{N} \\qquad j \\in \\mathcal{T}\n",
    "\\end{aligned}\n",
    "$$\n"
   ]
  },
  {
   "cell_type": "markdown",
   "metadata": {},
   "source": [
    "#### 2.1.2. Multicores ####\n",
    "\n",
    "Let $\\mathcal{C}$ denote the set of cores, and $|\\mathcal{C}|=c$. Binary decision variable $x_{ijk}$ donote the i-th process is assigned to the j-th time unit of core k. Another cost $S_c(x)$ is imposed if tasks is switched between cores. Now the standard form of the model can be rewritten as: \n",
    "\n",
    "$$\n",
    "\\begin{aligned}\n",
    "\\underset{x \\in \\mathbb{R^{nmc}}}{\\text{maximize}}\\qquad& T(x)+F(x)+R(x)-S(x)-S_c(x) \\\\\n",
    "\\text{subject to:}\\qquad& \\sum_{k = 1}^c \\sum_{j = t_i}^m x_{ijk} = s_i \\quad \\forall i \\in \\mathcal{N}\\\\\n",
    "& \\sum_{k = 1}^c \\sum_{j = 1}^{t_i} x_{ijk} = 0 \\quad \\forall i \\in \\mathcal{N}\\\\\n",
    "& \\sum_{i=1}^n x_{ijk} \\leq 1 \\quad \\forall j \\in \\mathcal{T} \\quad k \\in \\mathcal{C}\\\\\n",
    "& x_{ijk} \\in \\{0,1\\} \\quad \\forall i \\in \\mathcal{N} \\quad j \\in \\mathcal{T} \\quad k \\in \\mathcal{C}\n",
    "\\end{aligned}\n",
    "$$"
   ]
  },
  {
   "cell_type": "markdown",
   "metadata": {},
   "source": [
    "#### 2.1.3. Process Dependency ####\n",
    "If process h is dependent on process g, which means process h should be hanlded strictly after g temporally. \n",
    "\n",
    "$$\n",
    "\\begin{align}\n",
    "j*x_{gjk}+1 \\leq j*x_{hjk} \\quad \\forall j \\in \\mathcal{T} \\quad k \\in \\mathcal{C}\n",
    "\\end{align}\n",
    "$$"
   ]
  },
  {
   "cell_type": "markdown",
   "metadata": {},
   "source": [
    "### 2.2. Robust Programming ###\n",
    "#### 2.2.1. Unknown Duration ####\n",
    "If the duration of the process is uncertain and is subject to some distribution. Let $\\bar{s}$ denote the average duration. \n",
    "\n",
    "$$\n",
    "\\begin{align}\n",
    "s_i = \\bar{s_i}+\\rho_iu\n",
    "\\end{align}\n",
    "$$\n",
    "\n",
    "#### 2.2.2. Unknown Duration & Unknown Arrival Time ####\n",
    "\n",
    "Sleepy zzZ (Pijian)"
   ]
  },
  {
   "cell_type": "markdown",
   "metadata": {
    "collapsed": true
   },
   "source": [
    "## 3. Solution ##\n",
    "\n",
    "Here, you should code up your model in Julia + JuMP and solve it. Your code should be clean, easy to read, well annotated and commented, and it should compile! You are not allowed to use other programming languages or DCP packages such as `convex.jl`. **I will be running your code**. I suggest having multiple code blocks separated by text blocks that explain the various parts of your solution. You may also solve several versions of your problem with different models/assumptions.\n",
    "\n",
    "It's fine to call external packages such as `Gurobi`, but try to minimize the use of exotic libraries."
   ]
  },
  {
   "cell_type": "code",
   "execution_count": 1,
   "metadata": {},
   "outputs": [
    {
     "name": "stdout",
     "output_type": "stream",
     "text": [
      "The total number of horses is: 10.0\n",
      "The total number of donkeys is: 0.0\n",
      "The total number of goats is: 0.0\n"
     ]
    }
   ],
   "source": [
    "# this is a code block\n",
    "using JuMP, Clp\n",
    "m = Model(solver = ClpSolver())\n",
    "\n",
    "things = [:horses, :donkeys, :goats]  # these are the things \n",
    "@variable(m, x[things] >= 0)          # the quantities of each of the things (can't be negative)\n",
    "@constraint(m, sum(x) <= 10)          # we can't have any more than 10 things total\n",
    "@objective(m, Max, x[:horses])        # we want to maximize the number of horses\n",
    "solve(m)\n",
    "\n",
    "for i in things\n",
    "    println(\"The total number of \", i, \" is: \", getvalue(x[i]))     # print result\n",
    "end"
   ]
  },
  {
   "cell_type": "markdown",
   "metadata": {},
   "source": [
    "Remember to make sure your code compiles! I will be running your code!"
   ]
  },
  {
   "cell_type": "markdown",
   "metadata": {
    "collapsed": true
   },
   "source": [
    "## 4. Results And Discussion ##\n",
    "\n",
    "Here, you display and discuss the results. Show figures, plots, images, trade-off curves, or whatever else you can think of to best illustrate your results. The discussion should explain what the results mean, and how to interpret them. You should also explain the limitations of your approach/model and how sensitive your results are to the assumptions you made.\n",
    "\n",
    "Use plots (see `PyPlot` examples from class), or you can display results in a table like this:\n",
    "\n",
    "| Tables        | Are           | Cool  |\n",
    "| ------------- |:-------------:| -----:|\n",
    "| col 3 is      | right-aligned |\\$1600 |\n",
    "| col 2 is      | centered      |  \\$12 |\n",
    "| zebra stripes | are neat      |   \\$1 |"
   ]
  },
  {
   "cell_type": "markdown",
   "metadata": {
    "collapsed": true
   },
   "source": [
    "## 5. Conclusion ##\n",
    "\n",
    "Summarize your findings and your results, and talk about at least one possible future direction; something that might be interesting to pursue as a follow-up to your project."
   ]
  },
  {
   "cell_type": "markdown",
   "metadata": {
    "collapsed": true
   },
   "source": [
    "## 6. Reference ##\n",
    "\n",
    "1. Operating Systems, Wikipedia, refer to https://en.wikipedia.org/wiki/Operating_system\n",
    "2. Time-sharing, Wikipedia, refer to https://en.wikipedia.org/wiki/Time-sharing\n",
    "3. History of CPU process scheduling, refer to http://dave-reed.com/csc539.S05/Lectures/CPUsched.ppt\n",
    "4. Context Switch, Wikipedia, refer to https://en.wikipedia.org/wiki/Context_switch#Cost"
   ]
  },
  {
   "cell_type": "code",
   "execution_count": null,
   "metadata": {
    "collapsed": true
   },
   "outputs": [],
   "source": []
  }
 ],
 "metadata": {
  "anaconda-cloud": {},
  "kernelspec": {
   "display_name": "Julia 0.6.2",
   "language": "julia",
   "name": "julia-0.6"
  },
  "language_info": {
   "file_extension": ".jl",
   "mimetype": "application/julia",
   "name": "julia",
   "version": "0.6.2"
  }
 },
 "nbformat": 4,
 "nbformat_minor": 1
}
